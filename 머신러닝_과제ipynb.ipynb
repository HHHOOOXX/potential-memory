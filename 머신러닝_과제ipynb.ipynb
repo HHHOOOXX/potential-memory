{
  "nbformat": 4,
  "nbformat_minor": 0,
  "metadata": {
    "colab": {
      "provenance": [],
      "authorship_tag": "ABX9TyMRN+2kSv+0uBWw/bVWuy6Q",
      "include_colab_link": true
    },
    "kernelspec": {
      "name": "python3",
      "display_name": "Python 3"
    },
    "language_info": {
      "name": "python"
    }
  },
  "cells": [
    {
      "cell_type": "markdown",
      "metadata": {
        "id": "view-in-github",
        "colab_type": "text"
      },
      "source": [
        "<a href=\"https://colab.research.google.com/github/HHHOOOXX/potential-memory/blob/main/%EB%A8%B8%EC%8B%A0%EB%9F%AC%EB%8B%9D_%EA%B3%BC%EC%A0%9Cipynb.ipynb\" target=\"_parent\"><img src=\"https://colab.research.google.com/assets/colab-badge.svg\" alt=\"Open In Colab\"/></a>"
      ]
    },
    {
      "cell_type": "code",
      "execution_count": 3,
      "metadata": {
        "id": "Lqd3oGzQv_-O"
      },
      "outputs": [],
      "source": [
        "# 4.1 정규방정식\n",
        "import numpy as np #numpy 라이브러리를 가져와서 np로 별칭을 지정합니다\n",
        "np.random.seed(42) #난수 생성 시드를 설정하여, 난수발생을 동일하게 만듭니다.이는 코드를 여러번 실행할때 동일한 결과를 얻기 위함입니다.\n",
        "m = 100 #데이터 포인트의 개수를 나타내는 변수 m을 설정합니다. 여기서는 100개의 데이터 포인트를 생성합니다.\n",
        "x = 2*np.random.rand(m,1) #열벡터 #m개의 랜덤한 값을 가진 열벡터x를 생성합니다.\n",
        "#범위는 0부터 1사이의 값을가집니다. 이후 2를 곱하여 범위를 0부터 2까지로 변경합니다.\n",
        "y = 4+3*x+np.random.randn(m,1) #열벡터 #입력x에 대응하는 타깃 y를 생성합니다.\n",
        "#선형 관계 y= 4+3x에 잡음을 추가합니다. 'np.random.randn(m,1)'는 표준 정규 분포(평균0, 표준편차 1)에서 추출한 m개의 난수로 이루어진 열벡터를 생성합니다."
      ]
    },
    {
      "cell_type": "code",
      "source": [
        "#넘파이 선형대수 모듈(np.linalg)에 있는 inv()함수를 사용해 역행렬을 계산하고 dot()메서드를 사용해 행렬곱셈을 합니다.\n",
        "\n",
        "from sklearn.preprocessing import add_dummy_feature\n",
        "#sklearn의 add_dummy_feature 함수를 사용하여 각 샘플에 bias를 나타내는 특성을 추가합니다.\n",
        "x_b = add_dummy_feature(x) #각 샘플에 x0 = 1 을 추가한 특성 행렬 x_b를 생성합니다.\n",
        "theta_best = np.linalg.inv(x_b.T@ x_b)@ x_b.T @ y\n",
        "#x_b.T @ x_b 는 특성행렬 x_b의 전치행렬과 자신의 행렬곱을 의미합니다. 곱셈결과로 x_b의 공분산행렬이 됩니다.\n",
        "#np.linalg.inv(x_b.T @ x_b)는 공분산 행렬의 역행렬을 계산합니다.\n",
        "#x_b.T @ y 는 특성행렬 x_b의 전치행렬과 타깃 벡터 y의 행렬 곱을 계산합니다."
      ],
      "metadata": {
        "id": "0xIxmEffy62B"
      },
      "execution_count": 4,
      "outputs": []
    },
    {
      "cell_type": "code",
      "source": [
        "theta_best\n",
        "np.array([[4.21509616],[2.77011339]])\n",
        "# 주어진 데이터를 이용하여 구한 최적의 세타 값, 이는 선형회귀 모델의 절편과 기울기를 나타냅니다.\n",
        "# 4.21509616은 절편(intercept),2.77011339는 기울기(coefficient)에 해당합니다."
      ],
      "metadata": {
        "colab": {
          "base_uri": "https://localhost:8080/"
        },
        "id": "-zW4-1eJz6vL",
        "outputId": "2eab472b-0d5e-49bd-d498-e35246c4d876"
      },
      "execution_count": 5,
      "outputs": [
        {
          "output_type": "execute_result",
          "data": {
            "text/plain": [
              "array([[4.21509616],\n",
              "       [2.77011339]])"
            ]
          },
          "metadata": {},
          "execution_count": 5
        }
      ]
    },
    {
      "cell_type": "code",
      "source": [
        "# 새로운 입력 데이터인 x_new에 대해 예측을 수행하는 코드입니다.\n",
        "\n",
        "x_new = np.array([[0],[2]])\n",
        "#새로운 입력 데이터 x_new를 정의합니다. 여기서는 x의 범위를 0부터2까지로 설정합니다.\n",
        "x_new_b = add_dummy_feature(x_new) #각 샘플에 x0 = 1을 추가합니다.\n",
        "#새로운 입력 데이터에 대한 bias를 나타내는 특성 x0=1을 추가합니다.\n",
        "y_predict = x_new_b @ theta_best\n",
        "#새로운 입력 데이터에 대한 예측을 수행합니다.\n",
        "#입력 데이터에 대한 예측값을 계산하기 위해 특성 행렬 x_new_b와 최적의 모델 파라미터인 세타값을 곱합니다.\n",
        "y_predict\n",
        "np.array([[4.21509616],[9.75532293]])\n",
        "# 새로운 입력 데이터에 대한 예측값을 출력합니다.\n",
        "#따라서 입력값이 0일때 예측값은 4.21509616이고, 입력 값이 2일때 예측값은 9.75532293입니다."
      ],
      "metadata": {
        "colab": {
          "base_uri": "https://localhost:8080/"
        },
        "id": "PP7WVneP0nyn",
        "outputId": "e583851b-cd9a-4f68-b57f-a3a1a60ad812"
      },
      "execution_count": 6,
      "outputs": [
        {
          "output_type": "execute_result",
          "data": {
            "text/plain": [
              "array([[4.21509616],\n",
              "       [9.75532293]])"
            ]
          },
          "metadata": {},
          "execution_count": 6
        }
      ]
    },
    {
      "cell_type": "code",
      "source": [
        "import matplotlib.pyplot as plt # 'matplotlib.pyplot' 모듈을 'plt'로 가져옵니다.이 모듈은 그래프를 그리는데 사용됩니다.\n",
        "plt.plot(x_new, y_predict, \"r-\", label =\"예측\") #'plt.plot()'함수를 사용하여 x_new에 대한 예측값인 y_predict를 그립니다.\n",
        "#\"r-\"은 빨간색 선을 의미합니다. \"-\"는 선의 스타일을 지정합니다.\n",
        "#\"예측\"은 이 선에 대한 레이블로, 범례에 표시됩니다.\n",
        "plt.plot(x,y,\"b.\") #'plt.plot()' 함수를 사용하여 x와y의 원본 데이터를 그립니다.\n",
        "#\"b.\"는 파란색 점을 의미합니다. \".\"은 점을 그리라는 것을 의미합니다\n",
        "[...] #레이블, 축, 그리드, 범례를 추가합니다.\n",
        "plt.show() #그래프를 화면에 출력합니다."
      ],
      "metadata": {
        "colab": {
          "base_uri": "https://localhost:8080/",
          "height": 430
        },
        "id": "95EeVaJc276E",
        "outputId": "0f9fbf65-f613-44f7-ec9e-b82837c3c0b6"
      },
      "execution_count": 7,
      "outputs": [
        {
          "output_type": "display_data",
          "data": {
            "text/plain": [
              "<Figure size 640x480 with 1 Axes>"
            ],
            "image/png": "[encoded data removed]"
          },
          "metadata": {}
        }
      ]
    },
    {
      "cell_type": "code",
      "source": [
        "from sklearn.linear_model import LinearRegression\n",
        "# scikit-learn에서 LinearRegression 클래스를 가져옵니다. 이 클래스는 선형회귀 모델을 구현합니다.\n",
        "lin_reg = LinearRegression()\n",
        "# LinearRegression 클래스의 인스턴스를 생성하여 lin_reg변수에 할당합니다.이 변수는 선형 회귀 모델을 나타냅니다.\n",
        "\n",
        "lin_reg.fit(x,y)\n",
        "#lin_reg 모델을 데이터x와 타깃y에 맞춥니다. 즉, 선형 회귀 모델을 학습합니다.\n",
        "\n",
        "lin_reg.intercept_, lin_reg.coef_\n",
        "#학습된 모델의 절편(intercept)와 기울기(coefficient)를 확인합니다.\n",
        "\n",
        "(np.array([4.21509616]),np.array([[2.77011339]]))\n",
        "#결과는 각각 (4.21509616),(2.77011339)입니다\n",
        "\n",
        "lin_reg.predict(x_new)\n",
        "#학습된 모델을 사용하여 새로운 데이터x_new에 대한 예측을 수행합니다.\n",
        "np.array([[4.21509616],[9.75532293]])\n",
        "#예측 결과입니다. 입력 값이 0일 때 예측값은 4.21509616이고,입력 값이 2일 때 예측값은 9.75532293입니다."
      ],
      "metadata": {
        "colab": {
          "base_uri": "https://localhost:8080/"
        },
        "id": "O3V4M0n43nKn",
        "outputId": "0a257ff9-6a7c-4b10-c84a-ed9d5a45da86"
      },
      "execution_count": 8,
      "outputs": [
        {
          "output_type": "execute_result",
          "data": {
            "text/plain": [
              "array([[4.21509616],\n",
              "       [9.75532293]])"
            ]
          },
          "metadata": {},
          "execution_count": 8
        }
      ]
    },
    {
      "cell_type": "code",
      "source": [
        "#사이킷런은 특성의 가중치(coef_)와 편향(intercept_)을 분리하여 저장합니다.\n",
        "#LinearRegression 클래스는 scipy.linalg.lstsq() 함수('최소 제곱'에서 이름을 따왔습니다)를 기반으로 합니다.\n",
        "theta_best_svd, residuals, rank, s = np.linalg.lstsq(x_b, y, rcond=1e-6)\n",
        "theta_best_svd #np.linalg.lstsq()함수를 사용하여 선형 회귀 모델을 학습합니다.\n",
        "#x_b는 특성 행렬이며, y는 타깃벡터입니다.\n",
        "#rcond는 특이값분해를 사용하여 역행렬을 계산 할 때 사용되는 임계값입니다.\n",
        "#rank는 행렬의 랭크를 나타냅니다. s는 특이값을 나타냅니다.\n",
        "#학습된 모델의 가중치(coef_)와 편향(intercept_)을 출력합니다.\n",
        "np.array([[4.21509616],[2.77011339]])\n",
        "#결과는 np.array값으로, coef_와 intercept_와 동일한 값을 가지고 있습니다."
      ],
      "metadata": {
        "colab": {
          "base_uri": "https://localhost:8080/"
        },
        "id": "7x5CmiKE5PDf",
        "outputId": "8becc073-7283-4a97-c118-c67292026743"
      },
      "execution_count": 9,
      "outputs": [
        {
          "output_type": "execute_result",
          "data": {
            "text/plain": [
              "array([[4.21509616],\n",
              "       [2.77011339]])"
            ]
          },
          "metadata": {},
          "execution_count": 9
        }
      ]
    },
    {
      "cell_type": "code",
      "source": [
        "#np.linalg.pinv() 함수를 사용해 유사역행렬을 직접 구할 수 있습니다.\n",
        "np.linalg.pinv(x_b) @ y\n",
        "#np.linalg.pinv()함수를 사용하여 x_b의 유사 역행렬을 계산합니다.\n",
        "#유사 역행렬을 타깃 벡터 y와 곱하여 선형 회귀 모델을 학습합니다.\n",
        "np.array([[4.21509616],[2.77011339]])\n",
        "#학습된 모델의 가중치(coef_)와 편향(intercept_)을 출력합니다\n",
        "#결과는 np.linalg.lstsq()함수와 마찬가지로 np.array값으로, coef_와 intercept_동일한 값을 가지고 있습니다."
      ],
      "metadata": {
        "colab": {
          "base_uri": "https://localhost:8080/"
        },
        "id": "16D59m6u6qn_",
        "outputId": "45a6367b-5e61-48bf-cd0b-6006d6393df7"
      },
      "execution_count": 10,
      "outputs": [
        {
          "output_type": "execute_result",
          "data": {
            "text/plain": [
              "array([[4.21509616],\n",
              "       [2.77011339]])"
            ]
          },
          "metadata": {},
          "execution_count": 10
        }
      ]
    },
    {
      "cell_type": "code",
      "source": [
        "#4.2 경사하강법\n",
        "eta = 0.1 #학습률\n",
        "n_epochs = 1000 #전체 데이터셋을 몇 번 반복할지 결정하는 에포크 횟수\n",
        "m = len(x_b) #샘플개수\n",
        "np.random.seed(42)\n",
        "theta = np.random.randn(2,1) #모델 파라미터를 랜덤하게 초기화합니다.\n",
        "for epoch in range(n_epochs):\n",
        "    gradients = 2 / m*x_b.T @ (x_b @ theta - y)\n",
        "    theta = theta - eta * gradients\n",
        "# n_epochs 만큼 반복하는 반복문입니다. 각 반복마다 경사하강법을 수행하여 모델을 학습합니다.\n",
        "# gradients는 비용함수의 그래디언트(기울기)를 계산합니다.이는 전치된 특성행렬(x_b.T)과 예측값(x_b @ theta)과 타깃값(y)의 차이에 대한 행렬 곱입니다.\n",
        "# 경사 하강법의 업데이트 식에 따라 theta를 업데이트합니다. 현재 theta에서 학습률(eta)과 gradients를 곱한값을 빼주어 새로운 theta를 구합니다."
      ],
      "metadata": {
        "id": "MjAwohjR7Bvy"
      },
      "execution_count": 11,
      "outputs": []
    },
    {
      "cell_type": "code",
      "source": [
        "theta\n",
        "np.array([[4.21509616],[2.77011339]])"
      ],
      "metadata": {
        "colab": {
          "base_uri": "https://localhost:8080/"
        },
        "id": "2S2CU9nl8hSp",
        "outputId": "f31aecf1-a761-4f27-8013-959ef8da33b8"
      },
      "execution_count": 19,
      "outputs": [
        {
          "output_type": "execute_result",
          "data": {
            "text/plain": [
              "array([[4.21509616],\n",
              "       [2.77011339]])"
            ]
          },
          "metadata": {},
          "execution_count": 19
        }
      ]
    },
    {
      "cell_type": "code",
      "source": [
        "n_epochs = 50\n",
        "t0, t1 = 5, 50 #학습 스케줄 하이퍼파라미터\n",
        "# n_epochs는 전체 데이터셋을 몇 번 반복할지를 결정하는 변수입니다.\n",
        "# t0와 t1은 학습 스케줄 함수에서 사용되는 하이퍼파라미터입니다.\n",
        "def learning_schedule(t):\n",
        "    return t0 / (t + t1)\n",
        "    #학습스케줄 함수를 정의합니다. 학습 스케줄은 학습률을 조정하는데 사용됩니다.t0과 t1의 값에 따라 학습률이 조절됩니다.\n",
        "np.random.seed(42)\n",
        "theta = np.random.randn(2,1) #랜덤 초기화\n",
        "# np.random.randn(2,1)는 평균이 0이고 표준편차가 1인 가우시안 분포에서 추출된 랜덤한 값으로 theta를 초기화합니다.\n",
        "for epoch in range(n_epochs):\n",
        "    for iteration in range(m):\n",
        "        random_index = np.random.randint(m)\n",
        "        xi = x_b[random_index:random_index +1]\n",
        "        yi = y[random_index:random_index +1]\n",
        "        gradients = 2 *xi.T @ (xi @ theta - yi) #sgd의 경우 m으로 나누지 않습니다.\n",
        "        eta = learning_schedule(epoch * m + iteration)\n",
        "        theta = theta - eta * gradients\n",
        "#n_epochs만큼 반복하는 외부 반복문입니다. 각 반복마다 SGD를 사용하여 모델을 학습합니다.\n",
        "#내부 반복문에서는 데이터셋을 한 번씩 순회합니다.\n",
        "#random_index를 사용하여 랜덤한 샘플을 선택합니다.\n",
        "#xi와yi는 선택된 샘플의 특성과 타깃을 나타냅니다.\n",
        "#gradients는 현재 샘플에 대한 비용 함수의 기울기를 계산합니다.\n",
        "#학습률은 학습 스케줄 함수를 통해 결정됩니다.\n",
        "#경사 하강법의 업데이트 식에 따라 theta를 업데이트합니다,"
      ],
      "metadata": {
        "id": "SBSS20Cr8u3Q"
      },
      "execution_count": 12,
      "outputs": []
    },
    {
      "cell_type": "code",
      "source": [
        "theta\n",
        "np.array([[4.21076011],[2.74856079]])"
      ],
      "metadata": {
        "colab": {
          "base_uri": "https://localhost:8080/"
        },
        "id": "CzVOOYOz-E9F",
        "outputId": "d91ab3e9-2cb5-4825-da66-65608c6a3f81"
      },
      "execution_count": 13,
      "outputs": [
        {
          "output_type": "execute_result",
          "data": {
            "text/plain": [
              "array([[4.21076011],\n",
              "       [2.74856079]])"
            ]
          },
          "metadata": {},
          "execution_count": 13
        }
      ]
    },
    {
      "cell_type": "code",
      "source": [
        "from sklearn.linear_model import SGDRegressor\n",
        "#scikit-learn에서 SGDRegressor 클래스를 가져옵니다. 이 클래스는 SGD 기반의 선형 회귀 모델을 구현합니다.\n",
        "sgd_reg = SGDRegressor(max_iter=1000, tol=1e-5, penalty=None, eta0=0.01,n_iter_no_change=100, random_state=42)\n",
        "#SGDRegressor 클래스의 인스턴스를 생성합니다.\n",
        "#max_iter는 반복 횟수의 상한을 나타냅니다. 최대 1000번의 반복을 설정합니다.\n",
        "#tol은 최적화를 중지하는데 사용되는 공차를 나타냅니다. 공차가 1e-5보다 작으면 최적화가 중지됩니다.\n",
        "#penalty는 규제항을 설정하는 매개변수입니다. None으로 설정되어 있으므로 규제를 사용하지 않습니다.\n",
        "#eta0는 학습률의 초기값을 나타냅니다.\n",
        "#n_iter_no_change은 조기 종료를 위해 설정된 매개변수입니다.\n",
        "#random_state는 난수 생성 시드를 설정합니다.\n",
        "sgd_reg.fit(x,y.ravel())\n",
        "# fit()이 1D 타깃을 기대하기 때문에 y.ravel()로 씁니다.\n",
        "#SGDRegressor 모델을 주어진 데이터 x와 타깃 y를 사용하여 학습합니다.\n",
        "#y.ravel()은 1D 타깃을 기대하기 때문에 타깃 데이터를 1차원 배열로 변환합니다. fit() 메서드는 1차원 배열을 입력으로 받습니다.\n",
        "\n",
        "\n",
        "\n",
        "\n"
      ],
      "metadata": {
        "colab": {
          "base_uri": "https://localhost:8080/",
          "height": 74
        },
        "id": "T6iFEw4c-Z34",
        "outputId": "f1e96dc3-425b-4d45-ef09-6d47a447ae81"
      },
      "execution_count": 14,
      "outputs": [
        {
          "output_type": "execute_result",
          "data": {
            "text/plain": [
              "SGDRegressor(n_iter_no_change=100, penalty=None, random_state=42, tol=1e-05)"
            ],
            "text/html": [
              "<style>#sk-container-id-1 {color: black;background-color: white;}#sk-container-id-1 pre{padding: 0;}#sk-container-id-1 div.sk-toggleable {background-color: white;}#sk-container-id-1 label.sk-toggleable__label {cursor: pointer;display: block;width: 100%;margin-bottom: 0;padding: 0.3em;box-sizing: border-box;text-align: center;}#sk-container-id-1 label.sk-toggleable__label-arrow:before {content: \"▸\";float: left;margin-right: 0.25em;color: #696969;}#sk-container-id-1 label.sk-toggleable__label-arrow:hover:before {color: black;}#sk-container-id-1 div.sk-estimator:hover label.sk-toggleable__label-arrow:before {color: black;}#sk-container-id-1 div.sk-toggleable__content {max-height: 0;max-width: 0;overflow: hidden;text-align: left;background-color: #f0f8ff;}#sk-container-id-1 div.sk-toggleable__content pre {margin: 0.2em;color: black;border-radius: 0.25em;background-color: #f0f8ff;}#sk-container-id-1 input.sk-toggleable__control:checked~div.sk-toggleable__content {max-height: 200px;max-width: 100%;overflow: auto;}#sk-container-id-1 input.sk-toggleable__control:checked~label.sk-toggleable__label-arrow:before {content: \"▾\";}#sk-container-id-1 div.sk-estimator input.sk-toggleable__control:checked~label.sk-toggleable__label {background-color: #d4ebff;}#sk-container-id-1 div.sk-label input.sk-toggleable__control:checked~label.sk-toggleable__label {background-color: #d4ebff;}#sk-container-id-1 input.sk-hidden--visually {border: 0;clip: rect(1px 1px 1px 1px);clip: rect(1px, 1px, 1px, 1px);height: 1px;margin: -1px;overflow: hidden;padding: 0;position: absolute;width: 1px;}#sk-container-id-1 div.sk-estimator {font-family: monospace;background-color: #f0f8ff;border: 1px dotted black;border-radius: 0.25em;box-sizing: border-box;margin-bottom: 0.5em;}#sk-container-id-1 div.sk-estimator:hover {background-color: #d4ebff;}#sk-container-id-1 div.sk-parallel-item::after {content: \"\";width: 100%;border-bottom: 1px solid gray;flex-grow: 1;}#sk-container-id-1 div.sk-label:hover label.sk-toggleable__label {background-color: #d4ebff;}#sk-container-id-1 div.sk-serial::before {content: \"\";position: absolute;border-left: 1px solid gray;box-sizing: border-box;top: 0;bottom: 0;left: 50%;z-index: 0;}#sk-container-id-1 div.sk-serial {display: flex;flex-direction: column;align-items: center;background-color: white;padding-right: 0.2em;padding-left: 0.2em;position: relative;}#sk-container-id-1 div.sk-item {position: relative;z-index: 1;}#sk-container-id-1 div.sk-parallel {display: flex;align-items: stretch;justify-content: center;background-color: white;position: relative;}#sk-container-id-1 div.sk-item::before, #sk-container-id-1 div.sk-parallel-item::before {content: \"\";position: absolute;border-left: 1px solid gray;box-sizing: border-box;top: 0;bottom: 0;left: 50%;z-index: -1;}#sk-container-id-1 div.sk-parallel-item {display: flex;flex-direction: column;z-index: 1;position: relative;background-color: white;}#sk-container-id-1 div.sk-parallel-item:first-child::after {align-self: flex-end;width: 50%;}#sk-container-id-1 div.sk-parallel-item:last-child::after {align-self: flex-start;width: 50%;}#sk-container-id-1 div.sk-parallel-item:only-child::after {width: 0;}#sk-container-id-1 div.sk-dashed-wrapped {border: 1px dashed gray;margin: 0 0.4em 0.5em 0.4em;box-sizing: border-box;padding-bottom: 0.4em;background-color: white;}#sk-container-id-1 div.sk-label label {font-family: monospace;font-weight: bold;display: inline-block;line-height: 1.2em;}#sk-container-id-1 div.sk-label-container {text-align: center;}#sk-container-id-1 div.sk-container {/* jupyter's `normalize.less` sets `[hidden] { display: none; }` but bootstrap.min.css set `[hidden] { display: none !important; }` so we also need the `!important` here to be able to override the default hidden behavior on the sphinx rendered scikit-learn.org. See: https://github.com/scikit-learn/scikit-learn/issues/21755 */display: inline-block !important;position: relative;}#sk-container-id-1 div.sk-text-repr-fallback {display: none;}</style><div id=\"sk-container-id-1\" class=\"sk-top-container\"><div class=\"sk-text-repr-fallback\"><pre>SGDRegressor(n_iter_no_change=100, penalty=None, random_state=42, tol=1e-05)</pre><b>In a Jupyter environment, please rerun this cell to show the HTML representation or trust the notebook. <br />On GitHub, the HTML representation is unable to render, please try loading this page with nbviewer.org.</b></div><div class=\"sk-container\" hidden><div class=\"sk-item\"><div class=\"sk-estimator sk-toggleable\"><input class=\"sk-toggleable__control sk-hidden--visually\" id=\"sk-estimator-id-1\" type=\"checkbox\" checked><label for=\"sk-estimator-id-1\" class=\"sk-toggleable__label sk-toggleable__label-arrow\">SGDRegressor</label><div class=\"sk-toggleable__content\"><pre>SGDRegressor(n_iter_no_change=100, penalty=None, random_state=42, tol=1e-05)</pre></div></div></div></div></div>"
            ]
          },
          "metadata": {},
          "execution_count": 14
        }
      ]
    },
    {
      "cell_type": "code",
      "source": [
        "sgd_reg.intercept_,sgd_reg.coef_\n",
        "(np.array([4.21278812]),np.array([2.77270267]))\n",
        "# sgdregresson모델을 학습한 후의 절편과 계수입니다. 이는 각각 모델의 편향(intercept_)와 가중치(coef_)에 해당합니다."
      ],
      "metadata": {
        "colab": {
          "base_uri": "https://localhost:8080/"
        },
        "id": "xI20bNEo-QCL",
        "outputId": "78aee7cc-e809-470d-8add-742e59eba983"
      },
      "execution_count": 15,
      "outputs": [
        {
          "output_type": "execute_result",
          "data": {
            "text/plain": [
              "(array([4.21278812]), array([2.77270267]))"
            ]
          },
          "metadata": {},
          "execution_count": 15
        }
      ]
    },
    {
      "cell_type": "code",
      "source": [
        "#4.3 다항 회귀\n",
        "np.random.seed(42) #난수 생성 시드를 설정하여 결과를 재현 가능하게 합니다.\n",
        "m = 100 # 생성할 데이터 포인트의 개수를 설정합니다.\n",
        "x = 6 * np.random.rand(m,1)-3 #x = 6 * np.random.rand(m,1) - 3: -3에서 3 사이의 균일한 분포를 가진 난수를 생성하여 x에 할당합니다.\n",
        "y = 0.5 * x ** 2 + x + 2 + np.random.randn(m,1) #y = 0.5 * x ** 2 + x + 2 + np.random.randn(m,1): 주어진 다항식인 0.5x^2 + x + 2에 잡음을 더한 값을 y에 할당합니다. 잡음은 평균이 0이고 표준 편차가 1인 정규 분포를 따릅니다.\n",
        "\n",
        "\n",
        "\n",
        "\n"
      ],
      "metadata": {
        "id": "Yp2cGH6n_V3z"
      },
      "execution_count": 16,
      "outputs": []
    },
    {
      "cell_type": "code",
      "source": [
        "from sklearn.preprocessing import PolynomialFeatures\n",
        "#scikit-learn의 PolynomialFeatures 클래스를 가져옵니다. 이 클래스는 다항 특성을 생성하는 데 사용됩니다.\n",
        "poly_features = PolynomialFeatures(degree=2, include_bias=False)\n",
        "#다항 특성 변환기를 생성합니다. degree 매개변수는 다항식의 차수를 결정하며, include_bias 매개변수는 편향을 포함할지 여부를 결정합니다.\n",
        "x_poly = poly_features.fit_transform(x)\n",
        "#주어진 x 데이터를 다항 특성으로 변환합니다. 새로운 x_poly는 원래 특성 x와 이의 제곱인 2차 다항 특성으로 구성됩니다.\n",
        "x[0] #x의 첫 번째 원소를 출력합니다. 이는 -0.75275929입니다.\n",
        "np.array([-0.75275929]) #변환 전의 x의 첫 번째 원소와 동일합니다\n",
        "x_poly[0]\n",
        "np.array([-0.75275929, 0.56664654])# 변환 전의 x의 첫 번째 원소와 동일합니다"
      ],
      "metadata": {
        "colab": {
          "base_uri": "https://localhost:8080/"
        },
        "id": "h2VH6i6t_ym0",
        "outputId": "d7c2c9e2-0ba5-4258-9653-b8140b9b4003"
      },
      "execution_count": 26,
      "outputs": [
        {
          "output_type": "execute_result",
          "data": {
            "text/plain": [
              "array([-0.75275929,  0.56664654])"
            ]
          },
          "metadata": {},
          "execution_count": 26
        }
      ]
    },
    {
      "cell_type": "code",
      "source": [
        "lie_reg = LinearRegression()\n",
        "#LinearRegression 클래스의 인스턴스인 lin_reg을 생성합니다.\n",
        "lin_reg.fit(x_poly, y)\n",
        "#lin_reg.fit() 메서드를 사용하여 다항 특성인 x_poly와 타깃 데이터 y를 사용하여 선형 회귀 모델을 학습합니다.\n",
        "lin_reg.intercept_, lin_reg.coef_\n",
        "#학습된 모델의 절편(intercept_)과 계수(coef_)를 확인합니다.\n",
        "#결과로 나온 값은 각각 절편과 다항 특성의 계수들을 나타냅니다.\n",
        "(np.array([1.78134581]),np.array([[0.93366893, 0.56456263]]))\n",
        "#절편(intercept_): 1.78134581 ,계수(coef_): [0.93366893, 0.56456263]"
      ],
      "metadata": {
        "colab": {
          "base_uri": "https://localhost:8080/"
        },
        "id": "PaetC1qbAlWy",
        "outputId": "04c17ac5-6715-443b-fa9e-bf46395eb6c3"
      },
      "execution_count": 28,
      "outputs": [
        {
          "output_type": "execute_result",
          "data": {
            "text/plain": [
              "(array([1.78134581]), array([[0.93366893, 0.56456263]]))"
            ]
          },
          "metadata": {},
          "execution_count": 28
        }
      ]
    },
    {
      "cell_type": "code",
      "source": [
        "# 4.4 학습 곡선\n",
        "from sklearn.model_selection import learning_curve\n",
        "#scikit-learn의 learning_curve 모듈을 가져옵니다. 이 모듈은 학습 곡선을 그리는 데 사용됩니다.\n",
        "train_sizes, train_scores, valid_scores = learning_curve(\n",
        "    LinearRegression(), x, y, train_sizes=np.linspace(0.01,1.0,40), cv=5,\n",
        "    scoring=\"neg_root_mean_squared_error\")\n",
        "#learning_curve() 함수를 사용하여 학습 곡선 데이터를 생성합니다.\n",
        "#LinearRegression()은 사용할 모델입니다. 여기서는 선형 회귀 모델을 사용합니다.\n",
        "#x와 y는 훈련 데이터의 특성과 타깃입니다.\n",
        "#train_sizes는 각각의 훈련 세트의 크기를 나타냅니다. np.linspace(0.01, 1.0, 40)은 0.01에서 1.0까지 40개의 값으로 이루어진 배열을 생성합니다.\n",
        "#cv=5는 교차 검증을 위해 데이터를 5개의 폴드로 나누는 것을 의미합니다.\n",
        "#scoring=\"neg_root_mean_squared_error\"는 성능 평가 지표로 RMSE를 사용함을 의미합니다.\n",
        "train_errors = -train_scores.mean(axis=1)\n",
        "valid_errors = -valid_scores.mean(axis=1)\n",
        "#각 훈련 세트와 검증 세트에 대한 오차를 계산합니다. RMSE를 사용했으므로 음수를 취하여 사용합니다.\n",
        "plt.plot(train_sizes, train_errors, \"r-+\", linewidth=2, label=\"훈련 세트\")\n",
        "plt.plot(train_sizes, valid_errors, \"b-\", linewidth=3, label=\"검증 세트\")\n",
        "#훈련 세트와 검증 세트에 대한 오차를 시각화합니다. 빨간색 선은 훈련 세트의 오차를 나타내고, 파란색 선은 검증 세트의 오차를 나타냅니다.\n",
        "[...] #레이블, 축, 그리드, 범례를 추가합니다.\n",
        "plt.show() #그래프를 출력합니다."
      ],
      "metadata": {
        "colab": {
          "base_uri": "https://localhost:8080/",
          "height": 430
        },
        "id": "eDYacMstBX6R",
        "outputId": "a9a6c66b-c766-4ac4-cf7b-4de830fd5ec9"
      },
      "execution_count": 30,
      "outputs": [
        {
          "output_type": "display_data",
          "data": {
            "text/plain": [
              "<Figure size 640x480 with 1 Axes>"
            ],
            "image/png": "[encoded data removed]"
          },
          "metadata": {}
        }
      ]
    },
    {
      "cell_type": "code",
      "source": [
        "from sklearn.pipeline import make_pipeline\n",
        "#scikit-learn의 make_pipeline 함수를 가져옵니다. 이 함수는 여러 변환기와 추정기를 연결하여 파이프라인을 만들어줍니다.\n",
        "polynomial_regression = make_pipeline(\n",
        "    PolynomialFeatures(degree=10, include_bias=False),\n",
        "    LinearRegression())\n",
        "#make_pipeline 함수를 사용하여 다항 회귀를 위한 파이프라인을 생성합니다.\n",
        "#이 파이프라인은 다항 특성을 생성하는 PolynomialFeatures 변환기와 선형 회귀 모델인 LinearRegression을 연결합니다.\n",
        "#degree=10은 10차 다항 회귀를 수행함을 나타냅니다.\n",
        "train_sizes, train_scores, valid_scores = learning_curve(\n",
        "     polynomial_regression, x, y, train_sizes=np.linspace(0.01,1.0,40), cv=5,\n",
        "     scoring=\"neg_root_mean_squared_error\")\n",
        "#learning_curve 함수를 사용하여 학습 곡선 데이터를 생성합니다.\n",
        "#이전과 동일하게 Polynomial Regression 모델을 사용하여 학습 곡선을 생성합니다.\n",
        "[...] #이전과 동일"
      ],
      "metadata": {
        "colab": {
          "base_uri": "https://localhost:8080/"
        },
        "id": "VLcJva-KDD4X",
        "outputId": "2edb5b84-8a4d-4493-b20b-72ed1f6efa88"
      },
      "execution_count": 31,
      "outputs": [
        {
          "output_type": "execute_result",
          "data": {
            "text/plain": [
              "[Ellipsis]"
            ]
          },
          "metadata": {},
          "execution_count": 31
        }
      ]
    },
    {
      "cell_type": "code",
      "source": [
        "# 4.5 규제가 있는 선형 모델\n",
        "from sklearn.linear_model import Ridge\n",
        "#scikit-learn의 Ridge 모델을 가져옵니다.\n",
        "ridge_reg = Ridge(alpha=0.1,solver=\"cholesky\")\n",
        "#Ridge 모델의 인스턴스를 생성합니다.\n",
        "#alpha는 규제 강도를 나타내며, 작을수록 규제가 약해집니다.\n",
        "#solver는 최적화에 사용되는 알고리즘을 지정합니다. cholesky는 Cholesky 분해를 사용합니다.\n",
        "ridge_reg.fit(x,y)\n",
        "#Ridge 회귀 모델을 주어진 데이터 x와 타깃 y에 대해 학습합니다.\n",
        "ridge_reg.predict([[1.5]])\n",
        "#학습된 Ridge 회귀 모델을 사용하여 x=1.5에 대한 예측을 수행합니다.\n",
        "np.array([[1.55325833]])\n",
        "#x=1.5에 대한 예측 결과는 1.55325833입니다."
      ],
      "metadata": {
        "colab": {
          "base_uri": "https://localhost:8080/"
        },
        "id": "ESkMsb75EDUH",
        "outputId": "e201f754-9431-4a6b-8a4a-7caab3854c89"
      },
      "execution_count": 32,
      "outputs": [
        {
          "output_type": "execute_result",
          "data": {
            "text/plain": [
              "array([[1.55325833]])"
            ]
          },
          "metadata": {},
          "execution_count": 32
        }
      ]
    },
    {
      "cell_type": "code",
      "source": [
        "sgd_reg = SGDRegressor(penalty=\"12\",alpha=0.1 / m, tol=None,\n",
        "                       max_iter=1000, eta0=0.01, random_state=42)\n",
        "...\n",
        "...\n",
        "sgd_reg.fit(x, y.ravel()) # fit()은 1D 타깃을 기대하므로 y.ravel()로 씁니다.\n",
        "sgd_reg.predict([[1.5]])\n",
        "np.array([1.55302613])"
      ],
      "metadata": {
        "colab": {
          "base_uri": "https://localhost:8080/",
          "height": 379
        },
        "id": "qPRVxmJpEhAm",
        "outputId": "93b6af1c-0047-4508-a33d-1f46f1b2b87e"
      },
      "execution_count": 36,
      "outputs": [
        {
          "output_type": "error",
          "ename": "InvalidParameterError",
          "evalue": "The 'penalty' parameter of SGDRegressor must be a str among {'l1', 'elasticnet', 'l2'} or None. Got '12' instead.",
          "traceback": [
            "\u001b[0;31m---------------------------------------------------------------------------\u001b[0m",
            "\u001b[0;31mInvalidParameterError\u001b[0m                     Traceback (most recent call last)",
            "\u001b[0;32m<ipython-input-36-577300cc551d>\u001b[0m in \u001b[0;36m<cell line: 5>\u001b[0;34m()\u001b[0m\n\u001b[1;32m      3\u001b[0m \u001b[0;34m...\u001b[0m\u001b[0;34m\u001b[0m\u001b[0;34m\u001b[0m\u001b[0m\n\u001b[1;32m      4\u001b[0m \u001b[0;34m...\u001b[0m\u001b[0;34m\u001b[0m\u001b[0;34m\u001b[0m\u001b[0m\n\u001b[0;32m----> 5\u001b[0;31m \u001b[0msgd_reg\u001b[0m\u001b[0;34m.\u001b[0m\u001b[0mfit\u001b[0m\u001b[0;34m(\u001b[0m\u001b[0mx\u001b[0m\u001b[0;34m,\u001b[0m \u001b[0my\u001b[0m\u001b[0;34m.\u001b[0m\u001b[0mravel\u001b[0m\u001b[0;34m(\u001b[0m\u001b[0;34m)\u001b[0m\u001b[0;34m)\u001b[0m \u001b[0;31m# fit()은 1D 타깃을 기대하므로 y.ravel()로 씁니다.\u001b[0m\u001b[0;34m\u001b[0m\u001b[0;34m\u001b[0m\u001b[0m\n\u001b[0m\u001b[1;32m      6\u001b[0m \u001b[0msgd_reg\u001b[0m\u001b[0;34m.\u001b[0m\u001b[0mpredict\u001b[0m\u001b[0;34m(\u001b[0m\u001b[0;34m[\u001b[0m\u001b[0;34m[\u001b[0m\u001b[0;36m1.5\u001b[0m\u001b[0;34m]\u001b[0m\u001b[0;34m]\u001b[0m\u001b[0;34m)\u001b[0m\u001b[0;34m\u001b[0m\u001b[0;34m\u001b[0m\u001b[0m\n\u001b[1;32m      7\u001b[0m \u001b[0mnp\u001b[0m\u001b[0;34m.\u001b[0m\u001b[0marray\u001b[0m\u001b[0;34m(\u001b[0m\u001b[0;34m[\u001b[0m\u001b[0;36m1.55302613\u001b[0m\u001b[0;34m]\u001b[0m\u001b[0;34m)\u001b[0m\u001b[0;34m\u001b[0m\u001b[0;34m\u001b[0m\u001b[0m\n",
            "\u001b[0;32m/usr/local/lib/python3.10/dist-packages/sklearn/linear_model/_stochastic_gradient.py\u001b[0m in \u001b[0;36mfit\u001b[0;34m(self, X, y, coef_init, intercept_init, sample_weight)\u001b[0m\n\u001b[1;32m   1580\u001b[0m             \u001b[0mFitted\u001b[0m\u001b[0;31m \u001b[0m\u001b[0;31m`\u001b[0m\u001b[0mSGDRegressor\u001b[0m\u001b[0;31m`\u001b[0m \u001b[0mestimator\u001b[0m\u001b[0;34m.\u001b[0m\u001b[0;34m\u001b[0m\u001b[0;34m\u001b[0m\u001b[0m\n\u001b[1;32m   1581\u001b[0m         \"\"\"\n\u001b[0;32m-> 1582\u001b[0;31m         \u001b[0mself\u001b[0m\u001b[0;34m.\u001b[0m\u001b[0m_validate_params\u001b[0m\u001b[0;34m(\u001b[0m\u001b[0;34m)\u001b[0m\u001b[0;34m\u001b[0m\u001b[0;34m\u001b[0m\u001b[0m\n\u001b[0m\u001b[1;32m   1583\u001b[0m         \u001b[0mself\u001b[0m\u001b[0;34m.\u001b[0m\u001b[0m_more_validate_params\u001b[0m\u001b[0;34m(\u001b[0m\u001b[0;34m)\u001b[0m\u001b[0;34m\u001b[0m\u001b[0;34m\u001b[0m\u001b[0m\n\u001b[1;32m   1584\u001b[0m \u001b[0;34m\u001b[0m\u001b[0m\n",
            "\u001b[0;32m/usr/local/lib/python3.10/dist-packages/sklearn/base.py\u001b[0m in \u001b[0;36m_validate_params\u001b[0;34m(self)\u001b[0m\n\u001b[1;32m    598\u001b[0m         \u001b[0maccepted\u001b[0m \u001b[0mconstraints\u001b[0m\u001b[0;34m.\u001b[0m\u001b[0;34m\u001b[0m\u001b[0;34m\u001b[0m\u001b[0m\n\u001b[1;32m    599\u001b[0m         \"\"\"\n\u001b[0;32m--> 600\u001b[0;31m         validate_parameter_constraints(\n\u001b[0m\u001b[1;32m    601\u001b[0m             \u001b[0mself\u001b[0m\u001b[0;34m.\u001b[0m\u001b[0m_parameter_constraints\u001b[0m\u001b[0;34m,\u001b[0m\u001b[0;34m\u001b[0m\u001b[0;34m\u001b[0m\u001b[0m\n\u001b[1;32m    602\u001b[0m             \u001b[0mself\u001b[0m\u001b[0;34m.\u001b[0m\u001b[0mget_params\u001b[0m\u001b[0;34m(\u001b[0m\u001b[0mdeep\u001b[0m\u001b[0;34m=\u001b[0m\u001b[0;32mFalse\u001b[0m\u001b[0;34m)\u001b[0m\u001b[0;34m,\u001b[0m\u001b[0;34m\u001b[0m\u001b[0;34m\u001b[0m\u001b[0m\n",
            "\u001b[0;32m/usr/local/lib/python3.10/dist-packages/sklearn/utils/_param_validation.py\u001b[0m in \u001b[0;36mvalidate_parameter_constraints\u001b[0;34m(parameter_constraints, params, caller_name)\u001b[0m\n\u001b[1;32m     95\u001b[0m                 )\n\u001b[1;32m     96\u001b[0m \u001b[0;34m\u001b[0m\u001b[0m\n\u001b[0;32m---> 97\u001b[0;31m             raise InvalidParameterError(\n\u001b[0m\u001b[1;32m     98\u001b[0m                 \u001b[0;34mf\"The {param_name!r} parameter of {caller_name} must be\"\u001b[0m\u001b[0;34m\u001b[0m\u001b[0;34m\u001b[0m\u001b[0m\n\u001b[1;32m     99\u001b[0m                 \u001b[0;34mf\" {constraints_str}. Got {param_val!r} instead.\"\u001b[0m\u001b[0;34m\u001b[0m\u001b[0;34m\u001b[0m\u001b[0m\n",
            "\u001b[0;31mInvalidParameterError\u001b[0m: The 'penalty' parameter of SGDRegressor must be a str among {'l1', 'elasticnet', 'l2'} or None. Got '12' instead."
          ]
        }
      ]
    }
  ]
}